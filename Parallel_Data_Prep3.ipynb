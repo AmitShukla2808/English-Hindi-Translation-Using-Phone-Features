{
 "cells": [
  {
   "cell_type": "code",
   "execution_count": 25,
   "id": "ad536516-2edb-4931-a732-3de71456c1cf",
   "metadata": {},
   "outputs": [
    {
     "name": "stdout",
     "output_type": "stream",
     "text": [
      "Libraries imported.\n"
     ]
    }
   ],
   "source": [
    "import pandas as pd\n",
    "from pathlib import Path\n",
    "import os\n",
    "\n",
    "print(\"Libraries imported.\")"
   ]
  },
  {
   "cell_type": "code",
   "execution_count": 16,
   "id": "3f98513b-9940-4188-8032-036cc9d58936",
   "metadata": {},
   "outputs": [
    {
     "name": "stdout",
     "output_type": "stream",
     "text": [
      "Configuration set.\n"
     ]
    }
   ],
   "source": [
    "# --- Input File ---\n",
    "CLEANED_CORPUS_CSV = \"text_corpus_UGCE1_10k_cleaned.csv\" # Your cleaned CSV file\n",
    "\n",
    "# --- Output File ---\n",
    "OUTPUT_HINDI_FILE = \"cleaned_hindi.txt\"    # Output plain text file for Hindi\n",
    "\n",
    "# --- Column Name in CSV ---\n",
    "HINDI_COLUMN = \"hi_text\"\n",
    "\n",
    "# --- File Encoding ---\n",
    "FILE_ENCODING = 'utf-8'\n",
    "\n",
    "print(\"Configuration set.\")"
   ]
  },
  {
   "cell_type": "code",
   "execution_count": 18,
   "id": "dcc226a1-7093-4b36-bebf-4db281683a04",
   "metadata": {},
   "outputs": [
    {
     "name": "stdout",
     "output_type": "stream",
     "text": [
      "Loading cleaned corpus: text_corpus_UGCE1_10k_cleaned.csv...\n",
      "Loaded cleaned corpus with 9171 rows.\n",
      "Writing Hindi text to 'cleaned_hindi.txt'...\n",
      "\n",
      "Finished writing Hindi text file.\n",
      " - Lines written to 'cleaned_hindi.txt': 9171\n",
      "\n",
      "Script finished.\n"
     ]
    }
   ],
   "source": [
    "cleaned_csv_path = Path(CLEANED_CORPUS_CSV)\n",
    "output_hindi_path = Path(OUTPUT_HINDI_FILE)\n",
    "\n",
    "# --- Load Cleaned DataFrame ---\n",
    "if not cleaned_csv_path.is_file():\n",
    "    print(f\"Error: Cleaned corpus CSV not found at '{cleaned_csv_path}'. Cannot proceed.\")\n",
    "else:\n",
    "    print(f\"Loading cleaned corpus: {cleaned_csv_path}...\")\n",
    "    try:\n",
    "        df_cleaned = pd.read_csv(cleaned_csv_path)\n",
    "        print(f\"Loaded cleaned corpus with {len(df_cleaned)} rows.\")\n",
    "\n",
    "        # --- Check if Hindi column exists ---\n",
    "        if HINDI_COLUMN not in df_cleaned.columns:\n",
    "             print(f\"Error: Hindi column '{HINDI_COLUMN}' missing from {cleaned_csv_path}\")\n",
    "             df_cleaned = None # Indicate failure\n",
    "        else:\n",
    "            # --- Write the Hindi text to the output file ---\n",
    "            print(f\"Writing Hindi text to '{output_hindi_path}'...\")\n",
    "\n",
    "            # Ensure output directory exists\n",
    "            output_hindi_path.parent.mkdir(parents=True, exist_ok=True)\n",
    "\n",
    "            count = 0\n",
    "            with open(output_hindi_path, 'w', encoding=FILE_ENCODING) as f_out_hindi:\n",
    "                # Iterate directly over the specified column for efficiency\n",
    "                for hindi_text in df_cleaned[HINDI_COLUMN]:\n",
    "                    # Ensure the text is treated as a string, handle potential NaN/None if necessary\n",
    "                    f_out_hindi.write(str(hindi_text) + '\\n')\n",
    "                    count += 1\n",
    "\n",
    "            print(f\"\\nFinished writing Hindi text file.\")\n",
    "            print(f\" - Lines written to '{output_hindi_path}': {count}\")\n",
    "\n",
    "\n",
    "    except Exception as e:\n",
    "        print(f\"An error occurred during CSV loading or writing: {e}\")\n",
    "\n",
    "print(\"\\nScript finished.\")"
   ]
  },
  {
   "cell_type": "code",
   "execution_count": null,
   "id": "e8ebf44f-88e2-4414-9120-2e5c093615a6",
   "metadata": {},
   "outputs": [],
   "source": []
  },
  {
   "cell_type": "code",
   "execution_count": 27,
   "id": "b7803992-5350-46a3-bd64-ec4b1ad99852",
   "metadata": {},
   "outputs": [
    {
     "name": "stdout",
     "output_type": "stream",
     "text": [
      "Libraries imported.\n"
     ]
    }
   ],
   "source": [
    "import os\n",
    "from pathlib import Path\n",
    "import sys # Still potentially useful for error messages\n",
    "\n",
    "print(\"Libraries imported.\")"
   ]
  },
  {
   "cell_type": "code",
   "execution_count": 29,
   "id": "4733139c-7a71-48dd-b0b1-1c4a501ed2b6",
   "metadata": {},
   "outputs": [
    {
     "name": "stdout",
     "output_type": "stream",
     "text": [
      "File 1 (to check and rename): cleaned_parallel.phones\n",
      "File 2 (for comparison): cleaned_parallel.hi\n"
     ]
    }
   ],
   "source": [
    "# --- !!! EDIT THESE PATHS !!! ---\n",
    "\n",
    "# Path to the first file (the one you want to potentially rename)\n",
    "# Should end in .phones or .ph usually\n",
    "phones_file_path_str = \"cleaned_parallel.phones\"\n",
    "\n",
    "# Path to the second file (the one to compare line count against)\n",
    "other_file_path_str = \"cleaned_parallel.hi\"\n",
    "\n",
    "# --- End Configuration ---\n",
    "\n",
    "# Convert to Path objects\n",
    "phones_path = Path(phones_file_path_str)\n",
    "other_path = Path(other_file_path_str)\n",
    "\n",
    "print(f\"File 1 (to check and rename): {phones_path}\")\n",
    "print(f\"File 2 (for comparison): {other_path}\")"
   ]
  },
  {
   "cell_type": "code",
   "execution_count": 31,
   "id": "af84d2db-acca-4d30-a5b3-f1b19fa28b48",
   "metadata": {},
   "outputs": [
    {
     "name": "stdout",
     "output_type": "stream",
     "text": [
      "Line counting function defined.\n"
     ]
    }
   ],
   "source": [
    "def count_lines(file_path: Path) -> int | None:\n",
    "    \"\"\"Counts the number of lines in a file.\n",
    "\n",
    "    Args:\n",
    "        file_path: Path object for the file.\n",
    "\n",
    "    Returns:\n",
    "        The number of lines as an integer, or None if an error occurs.\n",
    "    \"\"\"\n",
    "    try:\n",
    "        count = 0\n",
    "        # Use utf-8 encoding as it's common for text data\n",
    "        with open(file_path, 'r', encoding='utf-8') as f:\n",
    "            for _ in f:\n",
    "                count += 1\n",
    "        return count\n",
    "    except FileNotFoundError:\n",
    "        print(f\"Error: File not found at '{file_path}'\")\n",
    "        return None\n",
    "    except Exception as e:\n",
    "        print(f\"Error reading file '{file_path}': {e}\")\n",
    "        return None\n",
    "\n",
    "print(\"Line counting function defined.\")"
   ]
  },
  {
   "cell_type": "code",
   "execution_count": 33,
   "id": "08958de7-d579-4c5f-815b-cedbf530dd9f",
   "metadata": {},
   "outputs": [
    {
     "name": "stdout",
     "output_type": "stream",
     "text": [
      "Main checking/renaming function defined.\n"
     ]
    }
   ],
   "source": [
    "def check_and_rename_notebook(phones_file: Path, other_file: Path):\n",
    "    \"\"\"\n",
    "    Checks if two files have the same line count and renames the first\n",
    "    file from .phones/.ph to .txt if they match. Designed for notebooks.\n",
    "    \"\"\"\n",
    "    print(\"\\n--- Starting Check ---\")\n",
    "\n",
    "    # --- Validate Input Files ---\n",
    "    if not phones_file.is_file():\n",
    "        print(f\"Error: Input file '{phones_file}' does not exist or is not a file.\")\n",
    "        print(\"--- Check Aborted ---\")\n",
    "        return # Stop execution in this cell\n",
    "    if not other_file.is_file():\n",
    "        print(f\"Error: Input file '{other_file}' does not exist or is not a file.\")\n",
    "        print(\"--- Check Aborted ---\")\n",
    "        return # Stop execution in this cell\n",
    "\n",
    "    # Check if the first file has a supported extension (optional but good)\n",
    "    original_suffix = phones_file.suffix.lower() # Get extension like '.phones' or '.ph'\n",
    "    if original_suffix not in ['.phones', '.ph']:\n",
    "         print(f\"Warning: First file '{phones_file.name}' does not have a standard '.phones' or '.ph' extension.\")\n",
    "         # Decide if you want to stop or proceed\n",
    "         # print(\"Proceeding with rename check anyway...\")\n",
    "         # return # Uncomment to stop if extension is wrong\n",
    "\n",
    "    # --- Count Lines ---\n",
    "    print(f\"Counting lines in '{phones_file.name}'...\")\n",
    "    phones_count = count_lines(phones_file)\n",
    "\n",
    "    print(f\"Counting lines in '{other_file.name}'...\")\n",
    "    other_count = count_lines(other_file)\n",
    "\n",
    "    if phones_count is None or other_count is None:\n",
    "        print(\"Could not count lines in one or both files. Aborting.\")\n",
    "        print(\"--- Check Aborted ---\")\n",
    "        return\n",
    "\n",
    "    print(f\"\\nLine Counts:\")\n",
    "    print(f\" - '{phones_file.name}': {phones_count}\")\n",
    "    print(f\" - '{other_file.name}': {other_count}\")\n",
    "\n",
    "    # --- Compare and Rename ---\n",
    "    if phones_count == other_count:\n",
    "        print(\"\\nLine counts match.\")\n",
    "\n",
    "        # Construct the new filename\n",
    "        new_txt_path = phones_file.with_suffix('.txt')\n",
    "        print(f\"Attempting to rename '{phones_file.name}' to '{new_txt_path.name}'...\")\n",
    "\n",
    "        # Safety Check: Ensure the target .txt file doesn't already exist\n",
    "        if new_txt_path.exists():\n",
    "            print(f\"Error: Target file '{new_txt_path}' already exists. Cannot rename.\")\n",
    "            print(\"Please move or delete the existing .txt file if you want to proceed.\")\n",
    "            print(\"--- Rename Skipped ---\")\n",
    "            return\n",
    "\n",
    "        # Perform the rename\n",
    "        try:\n",
    "            phones_file.rename(new_txt_path)\n",
    "            print(f\"Successfully renamed '{phones_file.name}' to '{new_txt_path.name}'.\")\n",
    "        except OSError as e:\n",
    "            print(f\"Error renaming file: {e}\")\n",
    "            print(\"Check file permissions or if the file is in use.\")\n",
    "            print(\"--- Rename Failed ---\")\n",
    "            return\n",
    "\n",
    "    else:\n",
    "        print(\"\\nLine counts DO NOT match.\")\n",
    "        print(f\"Files have different lengths ({phones_count} vs {other_count}).\")\n",
    "        print(f\"File '{phones_file.name}' was NOT renamed.\")\n",
    "\n",
    "    print(\"--- Check Finished ---\")\n",
    "\n",
    "print(\"Main checking/renaming function defined.\")"
   ]
  },
  {
   "cell_type": "code",
   "execution_count": 35,
   "id": "425ad50f-2e20-456e-bd13-2d28a257e86a",
   "metadata": {},
   "outputs": [
    {
     "name": "stdout",
     "output_type": "stream",
     "text": [
      "\n",
      "--- Starting Check ---\n",
      "Counting lines in 'cleaned_parallel.phones'...\n",
      "Counting lines in 'cleaned_parallel.hi'...\n",
      "\n",
      "Line Counts:\n",
      " - 'cleaned_parallel.phones': 9171\n",
      " - 'cleaned_parallel.hi': 9171\n",
      "\n",
      "Line counts match.\n",
      "Attempting to rename 'cleaned_parallel.phones' to 'cleaned_parallel.txt'...\n",
      "Successfully renamed 'cleaned_parallel.phones' to 'cleaned_parallel.txt'.\n",
      "--- Check Finished ---\n",
      "\n",
      "Notebook cell execution finished.\n"
     ]
    }
   ],
   "source": [
    "# Run the check and rename process using the paths defined in Cell 2\n",
    "check_and_rename_notebook(phones_path, other_path)\n",
    "\n",
    "print(\"\\nNotebook cell execution finished.\")"
   ]
  },
  {
   "cell_type": "code",
   "execution_count": null,
   "id": "f070f133-3022-447b-893b-b3c9117c936a",
   "metadata": {},
   "outputs": [],
   "source": []
  }
 ],
 "metadata": {
  "kernelspec": {
   "display_name": "Python 3 (ipykernel)",
   "language": "python",
   "name": "python3"
  },
  "language_info": {
   "codemirror_mode": {
    "name": "ipython",
    "version": 3
   },
   "file_extension": ".py",
   "mimetype": "text/x-python",
   "name": "python",
   "nbconvert_exporter": "python",
   "pygments_lexer": "ipython3",
   "version": "3.12.4"
  }
 },
 "nbformat": 4,
 "nbformat_minor": 5
}
